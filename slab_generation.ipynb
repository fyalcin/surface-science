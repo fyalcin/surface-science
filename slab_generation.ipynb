{
 "cells": [
  {
   "cell_type": "markdown",
   "source": [
    "# Slab generation by pymatgen"
   ],
   "metadata": {
    "collapsed": false
   }
  },
  {
   "cell_type": "code",
   "execution_count": 7,
   "outputs": [],
   "source": [
    "# Uncomment the next line to install pymatgen\n",
    "#!pip install pymatgen"
   ],
   "metadata": {
    "collapsed": false,
    "pycharm": {
     "name": "#%%\n"
    }
   }
  },
  {
   "cell_type": "code",
   "metadata": {
    "collapsed": true,
    "pycharm": {
     "name": "#%%\n"
    }
   },
   "source": [
    "# Import MPRester to query MaterialsProject API\n",
    "from pymatgen.ext.matproj import MPRester\n",
    "# Import SlabGenerator to generate slabs\n",
    "from pymatgen.core.surface import SlabGenerator"
   ],
   "execution_count": 8,
   "outputs": []
  },
  {
   "cell_type": "markdown",
   "source": [
    "**Here, we define the parameters of our slabs**"
   ],
   "metadata": {
    "collapsed": false,
    "pycharm": {
     "name": "#%% md\n"
    }
   }
  },
  {
   "cell_type": "code",
   "execution_count": 9,
   "outputs": [],
   "source": [
    "# Structure ID to query\n",
    "mpid = 'mp-81'  # FCC Au\n",
    "\n",
    "# Miller index\n",
    "miller_index = (1, 1, 1)\n",
    "\n",
    "# Whether slab and vacuum thicknesses are in number of layers or Angstroms\n",
    "in_unit_planes = False\n",
    "\n",
    "# Slab and vacuum thicknesses in Angstroms\n",
    "slab_thickness = 10\n",
    "vacuum_thickness = 20\n",
    "\n",
    "# Whether to generate symmetric slabs\n",
    "symmetrize = True"
   ],
   "metadata": {
    "collapsed": false,
    "pycharm": {
     "name": "#%%\n"
    }
   }
  },
  {
   "cell_type": "markdown",
   "source": [
    "**and proceed with the structure querying and slab generation**"
   ],
   "metadata": {
    "collapsed": false,
    "pycharm": {
     "name": "#%% md\n"
    }
   }
  },
  {
   "cell_type": "code",
   "execution_count": 10,
   "outputs": [],
   "source": [
    "# Then, we first query the conventional cell of our structure\n",
    "with MPRester() as m:\n",
    "    conv_bulk = m.get_structure_by_material_id(mpid, conventional_unit_cell=True)\n",
    "\n",
    "# Then, initialize the SlabGenerator object\n",
    "sg = SlabGenerator(initial_structure=conv_bulk,  # conventional bulk structure\n",
    "                   miller_index=miller_index,  # miller index for slabs\n",
    "                   min_slab_size=slab_thickness,  # minimum slab thickness\n",
    "                   min_vacuum_size=vacuum_thickness,  # minimum vacuum region thickness\n",
    "                   center_slab=True,  # whether to center the slabs in the c-direction\n",
    "                   in_unit_planes=in_unit_planes,\n",
    "                   primitive=True,  # whether to apply cell reduction on generated slabs\n",
    "                   max_normal_search=max([abs(m) for m in miller_index]))\n",
    "\n",
    "# and generate slabs\n",
    "slabs = sg.get_slabs(symmetrize=symmetrize)\n",
    "\n",
    "# We can save the slabs as POSCARs\n",
    "miller_to_str = ''.join([str(m) for m in miller_index])\n",
    "for index, slab in enumerate(slabs): #  each slab in slabs correspond to a different termination\n",
    "    formula = slab.composition.reduced_formula\n",
    "    slab.to('poscar', f'{formula}_{miller_to_str}_{index}.vasp')"
   ],
   "metadata": {
    "collapsed": false,
    "pycharm": {
     "name": "#%%\n"
    }
   }
  },
  {
   "cell_type": "code",
   "execution_count": null,
   "outputs": [],
   "source": [],
   "metadata": {
    "collapsed": false,
    "pycharm": {
     "name": "#%%\n"
    }
   }
  }
 ],
 "metadata": {
  "kernelspec": {
   "display_name": "Python 3",
   "language": "python",
   "name": "python3"
  },
  "language_info": {
   "codemirror_mode": {
    "name": "ipython",
    "version": 2
   },
   "file_extension": ".py",
   "mimetype": "text/x-python",
   "name": "python",
   "nbconvert_exporter": "python",
   "pygments_lexer": "ipython2",
   "version": "2.7.6"
  }
 },
 "nbformat": 4,
 "nbformat_minor": 0
}